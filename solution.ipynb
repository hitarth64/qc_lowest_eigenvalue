{
 "cells": [
  {
   "cell_type": "markdown",
   "metadata": {},
   "source": [
    "\n",
    "This section deals with decomposition of the input matrix into Pauli matrices\n",
    "\n",
    "Given an input matrix H, we decompose it into individual terms composed of the vector space formed \n",
    "by tensor product of Pauli Matrices (X,Y,Z,I)\n",
    "\n",
    "For our case, H = (XX + YY + ZZ - II)"
   ]
  },
  {
   "cell_type": "code",
   "execution_count": 1,
   "metadata": {},
   "outputs": [],
   "source": [
    "from pyquil.paulis import PauliSum, PauliTerm\n",
    "import pyquil\n",
    "from collections import Counter\n",
    "from typing import List, Union\n",
    "\n",
    "import funcsigs\n",
    "from pyquil import Program\n",
    "from pyquil.api import QuantumComputer, WavefunctionSimulator\n",
    "from pyquil.api._qvm import QVM\n",
    "from pyquil.gates import RX, RY, MEASURE, STANDARD_GATES\n",
    "from pyquil.paulis import PauliTerm, PauliSum\n",
    "import numpy as np\n",
    "from numpy import kron"
   ]
  },
  {
   "cell_type": "code",
   "execution_count": 2,
   "metadata": {},
   "outputs": [
    {
     "name": "stdout",
     "output_type": "stream",
     "text": [
      "Lowest Eigenvalue:  -1.991895242440592\n",
      "Lowest eigenvalue (calculated using Numpy) -2.0\n"
     ]
    }
   ],
   "source": [
    "H = PauliSum([ PauliTerm.from_list([(\"X\",1),(\"X\",0)],coefficient=1), PauliTerm.from_list([(\"Y\",1),(\"Y\",0)],coefficient=1), PauliTerm.from_list([(\"Z\",1),(\"Z\",0)],coefficient=1), \n",
    "            PauliTerm.from_list([(\"I\",1),(\"I\",0)],coefficient=-1) ]) \n",
    "\n",
    "# Decide n_qubits by size of your hamiltonian matrix\n",
    "# depth decides the amount of entanglement between qubits\n",
    "n_qubits = 2; depth = 3\n",
    "\n",
    "def ansatz(params):\n",
    "  p = Program()\n",
    "  for i in range(depth):\n",
    "    p += pyquil.gates.CNOT(1,0)\n",
    "    for j in range(n_qubits):\n",
    "      p += Program(RY(params[j],j))\n",
    "  return p\n",
    "\n",
    "\n",
    "def expectation_operator(hamiltonian, ansatz_):\n",
    "  # ansatz_ should be a pyquil program\n",
    "  # Hamiltonian is PauliSum object\n",
    "\n",
    "  operator_progs = []\n",
    "  operator_coeffs = []\n",
    "  \n",
    "  for p_term in hamiltonian.terms:\n",
    "    op_prog = Program()\n",
    "    for qindex, op in p_term:\n",
    "        op_prog.inst(STANDARD_GATES[op](qindex))\n",
    "    operator_progs.append(op_prog)\n",
    "    operator_coeffs.append(p_term.coefficient)\n",
    "\n",
    "  result_overlaps = WavefunctionSimulator().expectation(ansatz_, hamiltonian.terms)\n",
    "  result_overlaps = list(result_overlaps)\n",
    "  expectation = sum(list(map(lambda x: x[0] * x[1], zip(result_overlaps, operator_coeffs))))\n",
    "  return expectation.real\n",
    "\n",
    "angle_1 = np.linspace(0, 2*np.pi, 40)\n",
    "\n",
    "liss = [expectation_operator(H,ansatz([i,j])) for i in angle_1 for j in angle_1] \n",
    "\n",
    "print(\"Lowest Eigenvalue: \", min(liss))\n",
    "\n",
    "M = np.array([[0,0,0,0],[0,-1,1,0],[0,1,-1,0],[0,0,0,0]])\n",
    "print(\"Lowest eigenvalue (calculated using Numpy)\", min(np.linalg.eig(M)[0]))"
   ]
  },
  {
   "cell_type": "code",
   "execution_count": null,
   "metadata": {},
   "outputs": [],
   "source": []
  }
 ],
 "metadata": {
  "kernelspec": {
   "display_name": "Python 3",
   "language": "python",
   "name": "python3"
  },
  "language_info": {
   "codemirror_mode": {
    "name": "ipython",
    "version": 3
   },
   "file_extension": ".py",
   "mimetype": "text/x-python",
   "name": "python",
   "nbconvert_exporter": "python",
   "pygments_lexer": "ipython3",
   "version": "3.6.8"
  }
 },
 "nbformat": 4,
 "nbformat_minor": 4
}
